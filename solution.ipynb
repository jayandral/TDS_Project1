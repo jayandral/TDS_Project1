{
    "cells": [
        {
            "cell_type": "code",
            "execution_count": 22,
            "id": "17871c8c-d5b7-4881-8fb2-c3f084deec73",
            "metadata": {},
            "outputs": [],
            "source": [
                "import pandas as pd\n",
                "import numpy as np\n",
                "import csv\n",
                "import statsmodels.api as sm\n",
                "\n",
                "from collections import Counter\n",
                "from datetime import datetime"
            ]
        },
        {
            "cell_type": "markdown",
            "id": "7108a27f-97e8-4871-ae8d-c4c53a47dfe9",
            "metadata": {},
            "source": [
                "#### Q1.  Who are the top 5 users in Mumbai with the highest number of followers? List their login in order, comma-separated."
            ]
        },
        {
            "cell_type": "code",
            "execution_count": 3,
            "id": "4259def7-3934-411b-b441-64d7d24bd92c",
            "metadata": {},
            "outputs": [],
            "source": [
                "users = pd.read_csv('users.csv')"
            ]
        },
        {
            "cell_type": "code",
            "execution_count": 4,
            "id": "a14993f9-48d3-4956-9cca-d4349c30f649",
            "metadata": {},
            "outputs": [
                {
                    "name": "stdout",
                    "output_type": "stream",
                    "text": [
                        "ValentineFernandes,kovidgoyal,slidenerd,aryashah2k,coding-parrot\n"
                    ]
                }
            ],
            "source": [
                "top5 = users.sort_values(by='followers', ascending=False).head()\n",
                "print(','.join(top5['login'].tolist()))"
            ]
        },
        {
            "cell_type": "markdown",
            "id": "6cc86ddb-88c3-453c-bf56-29614358b62e",
            "metadata": {},
            "source": [
                "#### Q2. Who are the 5 earliest registered GitHub users in Mumbai? List their login in ascending order of created_at, comma-separated."
            ]
        },
        {
            "cell_type": "code",
            "execution_count": 5,
            "id": "afe79990-ccd3-4c8d-b184-45de1f19097c",
            "metadata": {},
            "outputs": [
                {
                    "name": "stdout",
                    "output_type": "stream",
                    "text": [
                        "ivank,sandeepshetty,svs,nitinhayaran,nischal\n"
                    ]
                }
            ],
            "source": [
                "users['created_at'] = pd.to_datetime(users['created_at'])\n",
                "top_earliest = users.sort_values(by='created_at').head()\n",
                "print(','.join(top_earliest['login'].tolist()))"
            ]
        },
        {
            "cell_type": "markdown",
            "id": "1675cbcf-6a8b-4af8-b24a-1372f68efd6b",
            "metadata": {},
            "source": [
                "#### Q3. What are the 3 most popular license among these users? Ignore missing licenses. List the license_name in order, comma-separated."
            ]
        },
        {
            "cell_type": "code",
            "execution_count": 6,
            "id": "a139a9a8-9ded-4175-b023-fe871850f3a4",
            "metadata": {},
            "outputs": [
                {
                    "name": "stdout",
                    "output_type": "stream",
                    "text": [
                        "mit,apache-2.0,other\n"
                    ]
                }
            ],
            "source": [
                "repos = pd.read_csv('repositories.csv')\n",
                "print(','.join(repos['license_name'].value_counts().head(3).keys()))"
            ]
        },
        {
            "cell_type": "markdown",
            "id": "662f1894-2c60-429c-b06d-cbe36afe6f08",
            "metadata": {},
            "source": [
                "#### Q4. Which company do the majority of these developers work at?"
            ]
        },
        {
            "cell_type": "code",
            "execution_count": 8,
            "id": "93a985b2-4e56-4871-9757-23e6ae5ed0de",
            "metadata": {},
            "outputs": [
                {
                    "data": {
                        "text/plain": [
                            "'MASAI SCHOOL'"
                        ]
                    },
                    "execution_count": 8,
                    "metadata": {},
                    "output_type": "execute_result"
                }
            ],
            "source": [
                "users['company'].value_counts().head(1).keys()[0]"
            ]
        },
        {
            "cell_type": "markdown",
            "id": "3e73104c-f44c-4e59-aecc-cb10a34578a1",
            "metadata": {},
            "source": [
                "#### Q5. Which programming language is most popular among these users?"
            ]
        },
        {
            "cell_type": "code",
            "execution_count": 9,
            "id": "1abcf548-42aa-43fc-837e-86c6db860617",
            "metadata": {},
            "outputs": [
                {
                    "data": {
                        "text/plain": [
                            "'JavaScript'"
                        ]
                    },
                    "execution_count": 9,
                    "metadata": {},
                    "output_type": "execute_result"
                }
            ],
            "source": [
                "repos['language'].value_counts().head(1).keys()[0]"
            ]
        },
        {
            "cell_type": "markdown",
            "id": "bf7abc13-3226-4c35-b42e-400f06cac01d",
            "metadata": {},
            "source": [
                "#### Q6. Which programming language is the second most popular among users who joined after 2020?"
            ]
        },
        {
            "cell_type": "code",
            "execution_count": 12,
            "id": "d01727ac-d1de-4407-a65b-db7a88223d81",
            "metadata": {},
            "outputs": [
                {
                    "data": {
                        "text/plain": [
                            "'HTML'"
                        ]
                    },
                    "execution_count": 12,
                    "metadata": {},
                    "output_type": "execute_result"
                }
            ],
            "source": [
                "users_after_2020 = users[users['created_at'] > '2020-01-01']\n",
                "repos_2020 = repos[repos['login'].isin(users_after_2020['login'].tolist())]\n",
                "repos_2020['language'].value_counts().head(2).keys()[-1]"
            ]
        },
        {
            "cell_type": "markdown",
            "id": "d0b07a2f-bcae-496b-ab7e-188a2f0aa7be",
            "metadata": {},
            "source": [
                "#### Q7. Which language has the highest average number of stars per repository? "
            ]
        },
        {
            "cell_type": "code",
            "execution_count": 13,
            "id": "8c8a119a-e562-4855-8330-23b6dccdfea9",
            "metadata": {},
            "outputs": [
                {
                    "name": "stdout",
                    "output_type": "stream",
                    "text": [
                        "TSQL 571.4615384615385\n"
                    ]
                }
            ],
            "source": [
                "avg_stars = repos.groupby('language')['stargazers_count'].mean()\n",
                "top_lang = avg_stars.idxmax()\n",
                "top_stars = avg_stars.max()\n",
                "print(top_lang, top_stars)"
            ]
        },
        {
            "cell_type": "markdown",
            "id": "e430846a-1518-409f-8717-cb2f84570460",
            "metadata": {},
            "source": [
                "#### Q8. Let's define leader_strength as followers / (1 + following). Who are the top 5 in terms of leader_strength? List their login in order, comma-separated."
            ]
        },
        {
            "cell_type": "code",
            "execution_count": 14,
            "id": "aa51b046-149f-4ef5-89ff-62586043992c",
            "metadata": {},
            "outputs": [
                {
                    "name": "stdout",
                    "output_type": "stream",
                    "text": [
                        "kovidgoyal,coding-parrot,gkcs,slidenerd,dmalvia\n"
                    ]
                }
            ],
            "source": [
                "users['leader_strength'] = users['followers'] / (1 + users['following'])\n",
                "top5_lead = users.sort_values(by='leader_strength', ascending=False).head()\n",
                "print(','.join(top5_lead['login'].tolist()))"
            ]
        },
        {
            "cell_type": "markdown",
            "id": "8dd87be3-3a61-4fe1-ab5c-1ef836c545d3",
            "metadata": {},
            "source": [
                "#### Q9. What is the correlation between the number of followers and the number of public repositories among users in Basel?"
            ]
        },
        {
            "cell_type": "code",
            "execution_count": 36,
            "id": "91e8b274-bde5-41ac-91d2-d965334f2d35",
            "metadata": {},
            "outputs": [
                {
                    "data": {
                        "text/plain": [
                            "'0.035'"
                        ]
                    },
                    "execution_count": 36,
                    "metadata": {},
                    "output_type": "execute_result"
                }
            ],
            "source": [
                "correlation = users['followers'].corr(users['public_repos'])\n",
                "f\"{correlation:.3f}\""
            ]
        },
        {
            "cell_type": "markdown",
            "id": "23dac608-8b88-48d8-aeae-1e11b2cb2b87",
            "metadata": {},
            "source": [
                "#### Q10. Does creating more repos help users get more followers? Using regression, estimate how many additional followers a user gets per additional public repository."
            ]
        },
        {
            "cell_type": "code",
            "execution_count": 16,
            "id": "9eede565-f813-4807-989b-051201f7f411",
            "metadata": {},
            "outputs": [
                {
                    "name": "stdout",
                    "output_type": "stream",
                    "text": [
                        "0.102\n"
                    ]
                }
            ],
            "source": [
                "followers = []\n",
                "public_repos = []\n",
                "\n",
                "with open('users.csv', 'r', encoding='utf-8') as file:\n",
                "    reader = csv.DictReader(file)\n",
                "    for row in reader:\n",
                "        followers.append(int(row['followers']))\n",
                "        public_repos.append(int(row['public_repos']))\n",
                "    \n",
                "if len(followers) > 1 and len(public_repos) > 1:\n",
                "    slope, intercept = np.polyfit(public_repos, followers, 1)\n",
                "    print(f\"{slope:.3f}\")\n",
                "else:\n",
                "    print(\"Error\")"
            ]
        },
        {
            "cell_type": "markdown",
            "id": "b1739602-5cef-48d6-a3ef-3ecc1d12f405",
            "metadata": {},
            "source": [
                "#### Q11. Do people typically enable projects and wikis together? What is the correlation between a repo having projects enabled and having wiki enabled?"
            ]
        },
        {
            "cell_type": "code",
            "execution_count": 17,
            "id": "e680160d-cfa3-42ef-be27-55a772b77171",
            "metadata": {},
            "outputs": [
                {
                    "data": {
                        "text/plain": [
                            "'0.160'"
                        ]
                    },
                    "execution_count": 17,
                    "metadata": {},
                    "output_type": "execute_result"
                }
            ],
            "source": [
                "correlation = repos['has_projects'].corr(repos['has_wiki'])\n",
                "f\"{correlation:.3f}\""
            ]
        },
        {
            "cell_type": "markdown",
            "id": "7d1c5de4-b714-46e2-af6a-ad41e8a42f8f",
            "metadata": {},
            "source": [
                "#### Q12. Do hireable users follow more people than those who are not hireable?"
            ]
        },
        {
            "cell_type": "code",
            "execution_count": 18,
            "id": "cd51bed6-bba7-4407-94a9-ccc5e3968b4d",
            "metadata": {},
            "outputs": [
                {
                    "data": {
                        "text/plain": [
                            "'8.663'"
                        ]
                    },
                    "execution_count": 18,
                    "metadata": {},
                    "output_type": "execute_result"
                }
            ],
            "source": [
                "hireable_avg_following = users[users['hireable'] == True]['following'].mean()\n",
                "non_hireable_avg_following = users[users['hireable'] == False]['following'].mean()\n",
                "difference = hireable_avg_following - non_hireable_avg_following\n",
                "f\"{difference:.3f}\""
            ]
        },
        {
            "cell_type": "markdown",
            "id": "1f30dbcf-90f2-4531-b37c-0386828e1f9f",
            "metadata": {},
            "source": [
                "#### Q13. Some developers write long bios. Does that help them get more followers? What's the correlation of the length of their bio (in Unicode characters) with followers? (Ignore people without bios)"
            ]
        },
        {
            "cell_type": "code",
            "execution_count": 21,
            "id": "a324c8b4-9faf-4f4d-9c3d-0813e6bdbfb8",
            "metadata": {},
            "outputs": [
                {
                    "name": "stdout",
                    "output_type": "stream",
                    "text": [
                        "Regression slope of followers on bio word count: -0.486\n"
                    ]
                },
                {
                    "name": "stderr",
                    "output_type": "stream",
                    "text": [
                        "/var/folders/dl/4fpv0f7932n70bp1k1zy415w0000gp/T/ipykernel_17856/2940401563.py:2: SettingWithCopyWarning: \n",
                        "A value is trying to be set on a copy of a slice from a DataFrame.\n",
                        "Try using .loc[row_indexer,col_indexer] = value instead\n",
                        "\n",
                        "See the caveats in the documentation: https://pandas.pydata.org/pandas-docs/stable/user_guide/indexing.html#returning-a-view-versus-a-copy\n",
                        "  users_with_bios['bio_word_count'] = users_with_bios['bio'].apply(lambda x: len(x.split()))\n"
                    ]
                }
            ],
            "source": [
                "users_with_bios = users[users['bio'].notna()]\n",
                "users_with_bios['bio_word_count'] = users_with_bios['bio'].apply(lambda x: len(x.split()))\n",
                "\n",
                "X = sm.add_constant(users_with_bios['bio_word_count'])\n",
                "model = sm.OLS(users_with_bios['followers'], X).fit()\n",
                "slope = model.params['bio_word_count']\n",
                "\n",
                "print(f'Regression slope of followers on bio word count: {slope:.3f}')"
            ]
        },
        {
            "cell_type": "markdown",
            "id": "96cb22e4-4046-40cf-9be5-06f096b0f0c3",
            "metadata": {},
            "source": [
                "#### Q14. Who created the most repositories on weekends (UTC)? List the top 5 users' login in order, comma-separated"
            ]
        },
        {
            "cell_type": "code",
            "execution_count": 23,
            "id": "ab49dafe-2981-4fe1-b603-0bee0e61e04f",
            "metadata": {},
            "outputs": [
                {
                    "name": "stdout",
                    "output_type": "stream",
                    "text": [
                        "Kushal334,alokproc,vinod1988,patilswapnilv,rajeshpillai\n"
                    ]
                }
            ],
            "source": [
                "weekend_repo_counts = Counter()\n",
                "\n",
                "with open('repositories.csv', 'r', encoding='utf-8') as file:\n",
                "    reader = csv.DictReader(file)\n",
                "    \n",
                "    for row in reader:\n",
                "        created_at = row.get('created_at', '')\n",
                "        if created_at:\n",
                "            created_date = datetime.fromisoformat(created_at[:-1])  \n",
                "            if created_date.weekday() in [5, 6]:\n",
                "                user_login = row['login']\n",
                "                weekend_repo_counts[user_login] += 1  \n",
                "\n",
                "top_users = weekend_repo_counts.most_common(5)\n",
                "print(','.join([user[0] for user in top_users]))"
            ]
        },
        {
            "cell_type": "markdown",
            "id": "6d9da60a-2ff0-4421-808e-ab9a74bf02fb",
            "metadata": {},
            "source": [
                "#### Q15. Do people who are hireable share their email addresses more often?"
            ]
        },
        {
            "cell_type": "code",
            "execution_count": 24,
            "id": "b8381831-d1ed-4855-afc2-97ad1c06a1af",
            "metadata": {},
            "outputs": [
                {
                    "data": {
                        "text/plain": [
                            "'0.223'"
                        ]
                    },
                    "execution_count": 24,
                    "metadata": {},
                    "output_type": "execute_result"
                }
            ],
            "source": [
                "fraction_hierable = users[users['hireable'] == True]['email'].notna().mean()\n",
                "fraction_non_hierable = users[users['hireable'] == False]['email'].notna().mean()\n",
                "diff = fraction_hierable - fraction_non_hierable\n",
                "f\"{diff:.3f}\""
            ]
        },
        {
            "cell_type": "markdown",
            "id": "806a227e-1285-4c5f-bb05-867a3fd5101a",
            "metadata": {},
            "source": [
                "#### Q16. Let's assume that the last word in a user's name is their surname (ignore missing names, trim and split by whitespace.) What's the most common surname? (If there's a tie, list them all, comma-separated, alphabetically)"
            ]
        },
        {
            "cell_type": "code",
            "execution_count": 25,
            "id": "01a24dfb-05cc-4528-b118-558b2307639c",
            "metadata": {},
            "outputs": [
                {
                    "name": "stdout",
                    "output_type": "stream",
                    "text": [
                        "Singh\n"
                    ]
                }
            ],
            "source": [
                "new_users = users[users['name'].notna()].copy()\n",
                "new_users['surname'] = new_users['name'].str.split().str[-1].str.strip()\n",
                "surname_counts = new_users['surname'].value_counts()\n",
                "common_surnames = surname_counts[surname_counts == surname_counts.max()].index.tolist()\n",
                "common_surnames.sort()\n",
                "print(','.join(common_surnames))"
            ]
        }
    ],
    "metadata": {
        "kernelspec": {
            "display_name": "py3",
            "language": "python",
            "name": "python3"
        },
        "language_info": {
            "codemirror_mode": {
                "name": "ipython",
                "version": 3
            },
            "file_extension": ".py",
            "mimetype": "text/x-python",
            "name": "python",
            "nbconvert_exporter": "python",
            "pygments_lexer": "ipython3",
            "version": "3.10.13"
        }
    },
    "nbformat": 4,
    "nbformat_minor": 5
}
